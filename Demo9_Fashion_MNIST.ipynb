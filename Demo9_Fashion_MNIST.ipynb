{
 "cells": [
  {
   "cell_type": "markdown",
   "metadata": {
    "id": "93vwwPeGVCZP"
   },
   "source": [
    "實作說明：\n",
    "嘗試至少以下述方式之一(或用其他方式)提高正確率，以Matplotlib loss/accuracy 圖示之 \n",
    "\n",
    "Dropout Rate(目前 0.2)\n",
    "\n",
    "Batch Normalization (API?)\n",
    "\n",
    "Kernel Size (目前 3 x 3)\n",
    "\n",
    "Activation Function (目前 Relu)\n",
    "\n",
    "Optimization: (目前 adam)"
   ]
  },
  {
   "cell_type": "code",
   "execution_count": 17,
   "metadata": {},
   "outputs": [],
   "source": [
    "# Install TensorFlow\n",
    "#!pip install -q tensorflow-gpu==2.3.0"
   ]
  },
  {
   "cell_type": "code",
   "execution_count": 18,
   "metadata": {
    "colab": {
     "base_uri": "https://localhost:8080/",
     "height": 34
    },
    "id": "pmNpq8GML1jW",
    "outputId": "02aeded4-fdcb-4859-8e3a-73ee2411f159"
   },
   "outputs": [
    {
     "name": "stdout",
     "output_type": "stream",
     "text": [
      "2.7.0\n"
     ]
    }
   ],
   "source": [
    "#try:\n",
    "#  %tensorflow_version 2.x  # Colab only.\n",
    "#except Exception:\n",
    "#  pass\n",
    "\n",
    "import tensorflow as tf\n",
    "print(tf.__version__)"
   ]
  },
  {
   "cell_type": "code",
   "execution_count": 19,
   "metadata": {
    "id": "cBJh6ib6MEIW"
   },
   "outputs": [],
   "source": [
    "# 更多輸入\n",
    "\n",
    "import numpy as np\n",
    "import matplotlib.pyplot as plt\n",
    "from tensorflow.keras.layers import Input, Conv2D, Dense, Flatten, Dropout\n",
    "from tensorflow.keras.models import Model"
   ]
  },
  {
   "cell_type": "code",
   "execution_count": 20,
   "metadata": {
    "colab": {
     "base_uri": "https://localhost:8080/",
     "height": 173
    },
    "id": "H_EGZv1TL4S_",
    "outputId": "462450de-9618-4113-92a5-c67364f218b4"
   },
   "outputs": [
    {
     "name": "stdout",
     "output_type": "stream",
     "text": [
      "x_train.shape: (60000, 28, 28)\n"
     ]
    }
   ],
   "source": [
    "# 載入影像\n",
    "fashion_mnist = tf.keras.datasets.fashion_mnist\n",
    "\n",
    "(x_train, y_train), (x_test, y_test) = fashion_mnist.load_data()\n",
    "x_train, x_test = x_train / 255.0, x_test / 255.0\n",
    "print(\"x_train.shape:\", x_train.shape)"
   ]
  },
  {
   "cell_type": "code",
   "execution_count": 21,
   "metadata": {
    "colab": {
     "base_uri": "https://localhost:8080/",
     "height": 34
    },
    "id": "1mqgWlIXNBfS",
    "outputId": "3b3cd22b-0175-4968-a5d5-332b02466b5c"
   },
   "outputs": [
    {
     "name": "stdout",
     "output_type": "stream",
     "text": [
      "(60000, 28, 28, 1)\n"
     ]
    }
   ],
   "source": [
    "# (28x28)乃 2D!\n",
    "# convolution 需要 height x width x color 我們得 expand_dims\n",
    "x_train = np.expand_dims(x_train, -1)\n",
    "x_test = np.expand_dims(x_test, -1)\n",
    "print(x_train.shape)"
   ]
  },
  {
   "cell_type": "code",
   "execution_count": 22,
   "metadata": {
    "colab": {
     "base_uri": "https://localhost:8080/",
     "height": 34
    },
    "id": "1Wr15bYpMwbB",
    "outputId": "52bcc03e-bdfe-4402-a5b8-c438755194e9"
   },
   "outputs": [
    {
     "name": "stdout",
     "output_type": "stream",
     "text": [
      "number of classes: 10\n"
     ]
    }
   ],
   "source": [
    "# 共有多少種物品\n",
    "K = len(set(y_train))\n",
    "print(\"number of classes:\", K)"
   ]
  },
  {
   "cell_type": "code",
   "execution_count": 23,
   "metadata": {
    "id": "Mmo66uQoMA1Q"
   },
   "outputs": [],
   "source": [
    "# 使用 函數式接口 functional API 建模\n",
    "i = Input(shape=x_train[0].shape)\n",
    "x = Conv2D(32, (3, 3), strides=2, activation='relu')(i)\n",
    "x = Conv2D(64, (3, 3), strides=2, activation='relu')(x)\n",
    "x = Conv2D(128, (3, 3), strides=2, activation='relu')(x)\n",
    "x = Flatten()(x)\n",
    "x = Dropout(0.1)(x)\n",
    "x = Dense(512, activation='relu')(x)\n",
    "x = Dropout(0.1)(x)\n",
    "x = Dense(K, activation='softmax')(x)\n",
    "\n",
    "model = Model(i, x)"
   ]
  },
  {
   "cell_type": "code",
   "execution_count": 24,
   "metadata": {
    "id": "uxLPSqx4XxCQ"
   },
   "outputs": [],
   "source": [
    "# your improved model code here to replace the above one"
   ]
  },
  {
   "cell_type": "code",
   "execution_count": 25,
   "metadata": {
    "colab": {
     "base_uri": "https://localhost:8080/",
     "height": 536
    },
    "id": "0zF9n0P7NcP-",
    "outputId": "8c44be1a-e3bb-4c4c-fdf9-db0f5cd98ac8"
   },
   "outputs": [
    {
     "name": "stdout",
     "output_type": "stream",
     "text": [
      "Epoch 1/15\n",
      "1875/1875 [==============================] - 13s 7ms/step - loss: 0.5037 - accuracy: 0.8146 - val_loss: 0.3839 - val_accuracy: 0.8569\n",
      "Epoch 2/15\n",
      "1875/1875 [==============================] - 14s 7ms/step - loss: 0.3453 - accuracy: 0.8719 - val_loss: 0.3299 - val_accuracy: 0.8767\n",
      "Epoch 3/15\n",
      "1875/1875 [==============================] - 14s 8ms/step - loss: 0.2946 - accuracy: 0.8880 - val_loss: 0.3352 - val_accuracy: 0.8787\n",
      "Epoch 4/15\n",
      "1875/1875 [==============================] - 14s 8ms/step - loss: 0.2579 - accuracy: 0.9033 - val_loss: 0.2982 - val_accuracy: 0.8935\n",
      "Epoch 5/15\n",
      "1875/1875 [==============================] - 15s 8ms/step - loss: 0.2324 - accuracy: 0.9119 - val_loss: 0.3001 - val_accuracy: 0.8894\n",
      "Epoch 6/15\n",
      "1875/1875 [==============================] - 14s 7ms/step - loss: 0.2083 - accuracy: 0.9210 - val_loss: 0.3052 - val_accuracy: 0.8975\n",
      "Epoch 7/15\n",
      "1875/1875 [==============================] - 14s 7ms/step - loss: 0.1884 - accuracy: 0.9280 - val_loss: 0.3053 - val_accuracy: 0.8993\n",
      "Epoch 8/15\n",
      "1875/1875 [==============================] - 14s 7ms/step - loss: 0.1696 - accuracy: 0.9352 - val_loss: 0.3048 - val_accuracy: 0.8990\n",
      "Epoch 9/15\n",
      "1875/1875 [==============================] - 14s 8ms/step - loss: 0.1532 - accuracy: 0.9424 - val_loss: 0.3183 - val_accuracy: 0.9016\n",
      "Epoch 10/15\n",
      "1875/1875 [==============================] - 13s 7ms/step - loss: 0.1382 - accuracy: 0.9463 - val_loss: 0.3422 - val_accuracy: 0.8961\n",
      "Epoch 11/15\n",
      "1875/1875 [==============================] - 15s 8ms/step - loss: 0.1254 - accuracy: 0.9521 - val_loss: 0.3565 - val_accuracy: 0.9016\n",
      "Epoch 12/15\n",
      "1875/1875 [==============================] - 15s 8ms/step - loss: 0.1159 - accuracy: 0.9550 - val_loss: 0.3714 - val_accuracy: 0.8997\n",
      "Epoch 13/15\n",
      "1875/1875 [==============================] - 15s 8ms/step - loss: 0.1043 - accuracy: 0.9606 - val_loss: 0.3855 - val_accuracy: 0.9050\n",
      "Epoch 14/15\n",
      "1875/1875 [==============================] - 14s 8ms/step - loss: 0.1002 - accuracy: 0.9624 - val_loss: 0.3983 - val_accuracy: 0.9004\n",
      "Epoch 15/15\n",
      "1875/1875 [==============================] - 12s 7ms/step - loss: 0.0925 - accuracy: 0.9638 - val_loss: 0.4207 - val_accuracy: 0.9015\n"
     ]
    }
   ],
   "source": [
    "# 編譯與訓練\n",
    "# 請確認用GPU\n",
    "model.compile(optimizer='adam',\n",
    "              loss='sparse_categorical_crossentropy',\n",
    "              metrics=['accuracy'])\n",
    "r = model.fit(x_train, y_train, validation_data=(x_test, y_test), epochs=15)"
   ]
  },
  {
   "cell_type": "code",
   "execution_count": 26,
   "metadata": {
    "id": "yETJCcNRX3g-"
   },
   "outputs": [],
   "source": [
    "#your improved optimization code here to replace the above one"
   ]
  },
  {
   "cell_type": "code",
   "execution_count": 27,
   "metadata": {
    "colab": {
     "base_uri": "https://localhost:8080/",
     "height": 282
    },
    "id": "ML37hw4iOkBm",
    "outputId": "73597c53-9474-4c4f-cab6-b50b94e15c65"
   },
   "outputs": [
    {
     "data": {
      "text/plain": [
       "<matplotlib.legend.Legend at 0x2369d6d41f0>"
      ]
     },
     "execution_count": 27,
     "metadata": {},
     "output_type": "execute_result"
    },
    {
     "data": {
      "image/png": "[encoded data removed]",
      "text/plain": [
       "<Figure size 432x288 with 1 Axes>"
      ]
     },
     "metadata": {
      "needs_background": "light"
     },
     "output_type": "display_data"
    }
   ],
   "source": [
    "# 繪出迭代損失\n",
    "import matplotlib.pyplot as plt\n",
    "plt.plot(r.history['loss'], label='loss')\n",
    "plt.plot(r.history['val_loss'], label='val_loss')\n",
    "plt.legend()"
   ]
  },
  {
   "cell_type": "code",
   "execution_count": 28,
   "metadata": {
    "colab": {
     "base_uri": "https://localhost:8080/",
     "height": 282
    },
    "id": "pemstSDIOpIb",
    "outputId": "f4b81ede-b260-432e-bb01-1a292974cb94"
   },
   "outputs": [
    {
     "data": {
      "text/plain": [
       "<matplotlib.legend.Legend at 0x2369d97d8b0>"
      ]
     },
     "execution_count": 28,
     "metadata": {},
     "output_type": "execute_result"
    },
    {
     "data": {
      "image/png": "[encoded data removed]",
      "text/plain": [
       "<Figure size 432x288 with 1 Axes>"
      ]
     },
     "metadata": {
      "needs_background": "light"
     },
     "output_type": "display_data"
    }
   ],
   "source": [
    "# 繪出迭代精準度\n",
    "plt.plot(r.history['accuracy'], label='acc')\n",
    "plt.plot(r.history['val_accuracy'], label='val_acc')\n",
    "plt.legend()"
   ]
  },
  {
   "cell_type": "code",
   "execution_count": 29,
   "metadata": {
    "colab": {
     "base_uri": "https://localhost:8080/",
     "height": 501
    },
    "id": "2LJTd4OiO6kL",
    "outputId": "0c6ad86a-0610-467f-dec1-cc1bc43c3c06"
   },
   "outputs": [
    {
     "name": "stdout",
     "output_type": "stream",
     "text": [
      "Confusion matrix, without normalization\n",
      "[[878   1  30  14   4   1  69   0   3   0]\n",
      " [  5 975   1  15   2   0   0   0   2   0]\n",
      " [ 16   0 898   9  43   0  31   0   3   0]\n",
      " [  9   3  25 897  39   2  24   0   1   0]\n",
      " [  2   2  82  21 849   0  43   0   1   0]\n",
      " [  0   0   0   1   0 978   0  19   0   2]\n",
      " [131   1  85  24 107   2 636   0  14   0]\n",
      " [  0   0   0   0   0  14   0 961   0  25]\n",
      " [  3   0   3   3   3   4   4   0 980   0]\n",
      " [  1   0   0   0   0   8   0  26   2 963]]\n"
     ]
    },
    {
     "data": {
      "image/png": "[encoded data removed]",
      "text/plain": [
       "<Figure size 432x288 with 2 Axes>"
      ]
     },
     "metadata": {
      "needs_background": "light"
     },
     "output_type": "display_data"
    }
   ],
   "source": [
    "# 繪出混淆矩陣\n",
    "from sklearn.metrics import confusion_matrix\n",
    "import itertools\n",
    "\n",
    "def plot_confusion_matrix(cm, classes,\n",
    "                          normalize=False,\n",
    "                          title='Confusion matrix',\n",
    "                          cmap=plt.cm.Blues):\n",
    "  \"\"\"\n",
    "  This function prints and plots the confusion matrix.\n",
    "  Normalization can be applied by setting `normalize=True`.\n",
    "  \"\"\"\n",
    "  if normalize:\n",
    "      cm = cm.astype('float') / cm.sum(axis=1)[:, np.newaxis]\n",
    "      print(\"Normalized confusion matrix\")\n",
    "  else:\n",
    "      print('Confusion matrix, without normalization')\n",
    "\n",
    "  print(cm)\n",
    "\n",
    "  plt.imshow(cm, interpolation='nearest', cmap=cmap)\n",
    "  plt.title(title)\n",
    "  plt.colorbar()\n",
    "  tick_marks = np.arange(len(classes))\n",
    "  plt.xticks(tick_marks, classes, rotation=45)\n",
    "  plt.yticks(tick_marks, classes)\n",
    "\n",
    "  fmt = '.2f' if normalize else 'd'\n",
    "  thresh = cm.max() / 2.\n",
    "  for i, j in itertools.product(range(cm.shape[0]), range(cm.shape[1])):\n",
    "      plt.text(j, i, format(cm[i, j], fmt),\n",
    "               horizontalalignment=\"center\",\n",
    "               color=\"white\" if cm[i, j] > thresh else \"black\")\n",
    "\n",
    "  plt.tight_layout()\n",
    "  plt.ylabel('True label')\n",
    "  plt.xlabel('Predicted label')\n",
    "  plt.show()\n",
    "\n",
    "\n",
    "p_test = model.predict(x_test).argmax(axis=1)\n",
    "cm = confusion_matrix(y_test, p_test)\n",
    "plot_confusion_matrix(cm, list(range(10)))\n",
    "\n"
   ]
  },
  {
   "cell_type": "code",
   "execution_count": 30,
   "metadata": {
    "id": "4jiCbXEKYdTa"
   },
   "outputs": [],
   "source": [
    "# 映射標籤\n",
    "labels = '''T-shirt/top\n",
    "Trouser\n",
    "Pullover\n",
    "Dress\n",
    "Coat\n",
    "Sandal\n",
    "Shirt\n",
    "Sneaker\n",
    "Bag\n",
    "Ankle boot'''.split(\"\\n\")"
   ]
  },
  {
   "cell_type": "code",
   "execution_count": 31,
   "metadata": {
    "colab": {
     "base_uri": "https://localhost:8080/",
     "height": 281
    },
    "id": "jjmW4STFO-Ny",
    "outputId": "e1e37f27-3af1-4097-ab8a-a26b31e35f1d"
   },
   "outputs": [
    {
     "data": {
      "image/png": "[encoded data removed]",
      "text/plain": [
       "<Figure size 432x288 with 1 Axes>"
      ]
     },
     "metadata": {
      "needs_background": "light"
     },
     "output_type": "display_data"
    }
   ],
   "source": [
    "# 展示分類錯誤樣本\n",
    "misclassified_idx = np.where(p_test != y_test)[0]\n",
    "i = np.random.choice(misclassified_idx)\n",
    "plt.imshow(x_test[i].reshape(28,28), cmap='gray')\n",
    "plt.title(\"True label: %s Predicted: %s\" % (labels[y_test[i]], labels[p_test[i]]));"
   ]
  }
 ],
 "metadata": {
  "accelerator": "GPU",
  "colab": {
   "collapsed_sections": [],
   "name": "Demo9_Fashion MNIST_實作練習.ipynb",
   "provenance": []
  },
  "kernelspec": {
   "display_name": "Python 3 (ipykernel)",
   "language": "python",
   "name": "python3"
  },
  "language_info": {
   "codemirror_mode": {
    "name": "ipython",
    "version": 3
   },
   "file_extension": ".py",
   "mimetype": "text/x-python",
   "name": "python",
   "nbconvert_exporter": "python",
   "pygments_lexer": "ipython3",
   "version": "3.8.12"
  }
 },
 "nbformat": 4,
 "nbformat_minor": 1
}
